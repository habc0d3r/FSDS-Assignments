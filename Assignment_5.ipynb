{
 "cells": [
  {
   "cell_type": "markdown",
   "id": "acef8e2a",
   "metadata": {},
   "source": [
    "#### Submitted by Hengul Akash"
   ]
  },
  {
   "cell_type": "markdown",
   "id": "b4d71334",
   "metadata": {},
   "source": [
    "#### 1. What does an empty dictionary's code look like?"
   ]
  },
  {
   "cell_type": "markdown",
   "id": "38d72d40",
   "metadata": {},
   "source": [
    "#### Ans:\n",
    "    A pair of curly brackets denotes that a dictionary is empty dictionary.\n",
    "    eg.:\n",
    "        empty_dict = {}"
   ]
  },
  {
   "cell_type": "markdown",
   "id": "b3476a2e",
   "metadata": {},
   "source": [
    "#### 2. What is the value of a dictionary value with the key 'foo' and the value 42?"
   ]
  },
  {
   "cell_type": "markdown",
   "id": "651d0275",
   "metadata": {},
   "source": [
    "#### Ans:\n",
    "    \n",
    "    {'foo': 42}"
   ]
  },
  {
   "cell_type": "markdown",
   "id": "c9aa7efa",
   "metadata": {},
   "source": [
    "#### 3. What is the most significant distinction between a dictionary and a list?"
   ]
  },
  {
   "cell_type": "markdown",
   "id": "a6ef9122",
   "metadata": {},
   "source": [
    "#### Ans:\n",
    "    A list is an ordered sequence of objects that can be accessed via their position whereas a dictionary is\n",
    "    an unordered sets of key and value pairs that can be accessed via key only. "
   ]
  },
  {
   "cell_type": "markdown",
   "id": "fce418d3",
   "metadata": {},
   "source": [
    "#### 4. What happens if you try to access spam['foo'] if spam is {'bar': 100}?\n",
    "#### Ans:\n",
    "    We get a KeyError (KeyError: 'foo') as there is no key name 'foo' exist in spam dictionary."
   ]
  },
  {
   "cell_type": "markdown",
   "id": "05cdb1e0",
   "metadata": {},
   "source": [
    "#### 5. If a dictionary is stored in spam, what is the difference between the expressions 'cat' in spam and 'cat' in spam.keys()?\n",
    "#### Ans:\n",
    "    There is no difference in both of the expressions. The 'in' operator in both the expressions checks \n",
    "    whether the string 'cat' exists as a key in the dictionary."
   ]
  },
  {
   "cell_type": "code",
   "execution_count": 1,
   "id": "dc8030e4",
   "metadata": {},
   "outputs": [],
   "source": [
    "spam = {\n",
    "    'cat': 'meow'\n",
    "}"
   ]
  },
  {
   "cell_type": "code",
   "execution_count": 2,
   "id": "6fce7558",
   "metadata": {},
   "outputs": [
    {
     "data": {
      "text/plain": [
       "True"
      ]
     },
     "execution_count": 2,
     "metadata": {},
     "output_type": "execute_result"
    }
   ],
   "source": [
    "'cat' in spam"
   ]
  },
  {
   "cell_type": "code",
   "execution_count": 3,
   "id": "6613888d",
   "metadata": {},
   "outputs": [
    {
     "data": {
      "text/plain": [
       "True"
      ]
     },
     "execution_count": 3,
     "metadata": {},
     "output_type": "execute_result"
    }
   ],
   "source": [
    "'cat' in spam.keys()"
   ]
  },
  {
   "cell_type": "markdown",
   "id": "7bcefcff",
   "metadata": {},
   "source": [
    "#### 6. If a dictionary is stored in spam, what is the difference between the expressions 'cat' in spam and 'cat' in spam.values()?\n",
    "#### Ans:\n",
    "    The expression 'cat' in spam checks if there is a key named 'cat' available in a dictionary and the other \n",
    "    experssion 'cat' in spam.values() checks if 'cat' exists as a value for one of the keys in a dictionary."
   ]
  },
  {
   "cell_type": "code",
   "execution_count": 4,
   "id": "af523960",
   "metadata": {},
   "outputs": [],
   "source": [
    "spam = {\n",
    "    'cat': 100\n",
    "}"
   ]
  },
  {
   "cell_type": "code",
   "execution_count": 5,
   "id": "c0004333",
   "metadata": {},
   "outputs": [
    {
     "data": {
      "text/plain": [
       "True"
      ]
     },
     "execution_count": 5,
     "metadata": {},
     "output_type": "execute_result"
    }
   ],
   "source": [
    "'cat' in spam"
   ]
  },
  {
   "cell_type": "code",
   "execution_count": 6,
   "id": "277cba3d",
   "metadata": {},
   "outputs": [
    {
     "data": {
      "text/plain": [
       "False"
      ]
     },
     "execution_count": 6,
     "metadata": {},
     "output_type": "execute_result"
    }
   ],
   "source": [
    "'cat' in spam.values()"
   ]
  },
  {
   "cell_type": "markdown",
   "id": "c726ec50",
   "metadata": {},
   "source": [
    "#### 7. What is a shortcut for the following code?\n",
    "    if 'color' not in spam:\n",
    "        spam['color'] = 'black'\n",
    "        \n",
    "#### Ans:"
   ]
  },
  {
   "cell_type": "code",
   "execution_count": 7,
   "id": "757333f9",
   "metadata": {},
   "outputs": [
    {
     "data": {
      "text/plain": [
       "{'color': 'black'}"
      ]
     },
     "execution_count": 7,
     "metadata": {},
     "output_type": "execute_result"
    }
   ],
   "source": [
    "spam = {}\n",
    "# shortcut:\n",
    "spam.setdefault('color', 'black')\n",
    "spam"
   ]
  },
  {
   "cell_type": "markdown",
   "id": "aee61e6d",
   "metadata": {},
   "source": [
    "#### 8. How do you \"pretty print\" dictionary values using which module and function?\n",
    "\n",
    "#### Ans:\n",
    "    We will import pprint module to pretty print dictionary values. Then we will call the pprint() function \n",
    "    from the pprint module providing an list of dictionaries as argument."
   ]
  },
  {
   "cell_type": "code",
   "execution_count": 8,
   "id": "2f5ad629",
   "metadata": {},
   "outputs": [
    {
     "name": "stdout",
     "output_type": "stream",
     "text": [
      "[{'Age': '23',\n",
      "  'Name': 'John',\n",
      "  'Residence': {'City': 'New York', 'Country': 'USA'}},\n",
      " {'Age': '44',\n",
      "  'Name': 'Jose',\n",
      "  'Residence': {'City': 'Madrid', 'Country': 'Spain'}},\n",
      " {'Age': '29',\n",
      "  'Name': 'Anne',\n",
      "  'Residence': {'City': 'England', 'Country': 'UK'}},\n",
      " {'Age': '35',\n",
      "  'Name': 'Lee',\n",
      "  'Residence': {'City': 'Osaka', 'Country': 'Japan'}}]\n"
     ]
    }
   ],
   "source": [
    "import pprint\n",
    "\n",
    "sample_data = [{'Name': 'John', 'Age': '23', 'Residence': {'Country':'USA', 'City': 'New York'}},\n",
    "               {'Name': 'Jose', 'Age': '44', 'Residence': {'Country':'Spain', 'City': 'Madrid'}},\n",
    "               {'Name': 'Anne', 'Age': '29', 'Residence': {'Country':'UK', 'City': 'England'}},\n",
    "               {'Name': 'Lee', 'Age': '35', 'Residence': {'Country':'Japan', 'City': 'Osaka'}}]\n",
    "\n",
    "pprint.pprint(sample_data)"
   ]
  }
 ],
 "metadata": {
  "kernelspec": {
   "display_name": "Python 3 (ipykernel)",
   "language": "python",
   "name": "python3"
  },
  "language_info": {
   "codemirror_mode": {
    "name": "ipython",
    "version": 3
   },
   "file_extension": ".py",
   "mimetype": "text/x-python",
   "name": "python",
   "nbconvert_exporter": "python",
   "pygments_lexer": "ipython3",
   "version": "3.9.7"
  }
 },
 "nbformat": 4,
 "nbformat_minor": 5
}
