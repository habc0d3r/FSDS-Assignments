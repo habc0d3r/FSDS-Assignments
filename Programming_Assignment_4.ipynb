{
 "cells": [
  {
   "cell_type": "markdown",
   "id": "f561ea3f",
   "metadata": {},
   "source": [
    "#### Submitted by Hengul Akash"
   ]
  },
  {
   "cell_type": "markdown",
   "id": "54b6ab52",
   "metadata": {},
   "source": [
    "#### 1. Write a Python Program to Find the Factorial of a Number?\n",
    "#### Ans:"
   ]
  },
  {
   "cell_type": "code",
   "execution_count": 1,
   "id": "e6c1653b",
   "metadata": {},
   "outputs": [],
   "source": [
    "def Factorial(n):\n",
    "    '''Factorial function takes int as argument and returns the factorial of that int.'''\n",
    "    fact = 1\n",
    "    for i in range(1, n + 1):\n",
    "        fact *= i\n",
    "    return fact"
   ]
  },
  {
   "cell_type": "code",
   "execution_count": 2,
   "id": "e8e6e0cd",
   "metadata": {},
   "outputs": [
    {
     "data": {
      "text/plain": [
       "120"
      ]
     },
     "execution_count": 2,
     "metadata": {},
     "output_type": "execute_result"
    }
   ],
   "source": [
    "Factorial(5)"
   ]
  },
  {
   "cell_type": "markdown",
   "id": "433ff75f",
   "metadata": {},
   "source": [
    "#### 2. Write a Python Program to Display the multiplication Table?\n",
    "#### Ans:"
   ]
  },
  {
   "cell_type": "code",
   "execution_count": 3,
   "id": "665afbba",
   "metadata": {
    "scrolled": true
   },
   "outputs": [
    {
     "name": "stdout",
     "output_type": "stream",
     "text": [
      "Enter a number to get the multiplication table: 5\n",
      "Which number do you want the multiplication table up to?: 15\n",
      "5 x 1 = 5\n",
      "5 x 2 = 10\n",
      "5 x 3 = 15\n",
      "5 x 4 = 20\n",
      "5 x 5 = 25\n",
      "5 x 6 = 30\n",
      "5 x 7 = 35\n",
      "5 x 8 = 40\n",
      "5 x 9 = 45\n",
      "5 x 10 = 50\n",
      "5 x 11 = 55\n",
      "5 x 12 = 60\n",
      "5 x 13 = 65\n",
      "5 x 14 = 70\n",
      "5 x 15 = 75\n"
     ]
    }
   ],
   "source": [
    "n = int(input('Enter a number to get the multiplication table: '))\n",
    "m = int(input('Which number do you want the multiplication table up to?: '))\n",
    "for i in range(1, m + 1):\n",
    "    result = n * i\n",
    "    print(n, 'x', i, '=', result)"
   ]
  },
  {
   "cell_type": "markdown",
   "id": "3cbab16a",
   "metadata": {},
   "source": [
    "#### 3. Write a Python Program to Print the Fibonacci sequence?\n",
    "#### Ans:"
   ]
  },
  {
   "cell_type": "code",
   "execution_count": 4,
   "id": "191c4bf8",
   "metadata": {},
   "outputs": [
    {
     "name": "stdout",
     "output_type": "stream",
     "text": [
      "Enter the maximum range number: 15\n",
      "1\n",
      "2\n",
      "3\n",
      "5\n",
      "8\n",
      "13\n",
      "21\n",
      "34\n",
      "55\n",
      "89\n",
      "144\n",
      "233\n",
      "377\n",
      "610\n"
     ]
    }
   ],
   "source": [
    "num = int(input(\"Enter the maximum range number: \"))\n",
    "a = 1\n",
    "b = 1\n",
    "for i in range(1, num):\n",
    "    if i == 1:\n",
    "        n = i\n",
    "    else:\n",
    "        n = a + b\n",
    "        a = b\n",
    "        b = n\n",
    "    print(n)"
   ]
  },
  {
   "cell_type": "markdown",
   "id": "0b8e1e20",
   "metadata": {},
   "source": [
    "#### 4. Write a Python Program to Check Armstrong Number?\n",
    "#### Ans:"
   ]
  },
  {
   "cell_type": "code",
   "execution_count": 5,
   "id": "71236fe2",
   "metadata": {},
   "outputs": [
    {
     "name": "stdout",
     "output_type": "stream",
     "text": [
      "Number: 371\n",
      "371 is an Armstrong Number.\n"
     ]
    }
   ],
   "source": [
    "num = int(input(\"Number: \"))\n",
    "length = len(str(num))\n",
    "total = 0\n",
    "for i in str(num):\n",
    "    value = int(i)**length\n",
    "    total += value\n",
    "if num == total:\n",
    "    print(f\"{num} is an Armstrong Number.\")\n",
    "else:\n",
    "    print(f\"{num} is not an Armstrong Number.\")"
   ]
  },
  {
   "cell_type": "markdown",
   "id": "f0367eff",
   "metadata": {},
   "source": [
    "#### 5. Write a Python Program to Find Armstrong Number in an Interval?\n",
    "#### Ans:"
   ]
  },
  {
   "cell_type": "code",
   "execution_count": 6,
   "id": "9ec24506",
   "metadata": {},
   "outputs": [
    {
     "name": "stdout",
     "output_type": "stream",
     "text": [
      "Lower limit: 100\n",
      "Upper limit: 10000\n",
      "153\n",
      "370\n",
      "371\n",
      "407\n",
      "1634\n",
      "8208\n",
      "9474\n"
     ]
    }
   ],
   "source": [
    "lower, upper = int(input(\"Lower limit: \")), int(input(\"Upper limit: \"))\n",
    "\n",
    "for n in range(lower, upper + 1):\n",
    "    total = 0\n",
    "    length = len(str(n))\n",
    "    for i in str(n):\n",
    "        value = int(i)**length\n",
    "        total += value\n",
    "    if n == total:\n",
    "        print(n)"
   ]
  },
  {
   "cell_type": "markdown",
   "id": "536683dd",
   "metadata": {},
   "source": [
    "#### 6. Write a Python Program to Find the Sum of Natural Numbers?\n",
    "#### Ans:"
   ]
  },
  {
   "cell_type": "code",
   "execution_count": 8,
   "id": "a05788f4",
   "metadata": {},
   "outputs": [
    {
     "name": "stdout",
     "output_type": "stream",
     "text": [
      "Num: 10\n",
      "55\n"
     ]
    }
   ],
   "source": [
    "n = int(input('Num: '))\n",
    "total = 0\n",
    "for i in range(n + 1):\n",
    "    total += i\n",
    "print(total)"
   ]
  }
 ],
 "metadata": {
  "kernelspec": {
   "display_name": "Python 3 (ipykernel)",
   "language": "python",
   "name": "python3"
  },
  "language_info": {
   "codemirror_mode": {
    "name": "ipython",
    "version": 3
   },
   "file_extension": ".py",
   "mimetype": "text/x-python",
   "name": "python",
   "nbconvert_exporter": "python",
   "pygments_lexer": "ipython3",
   "version": "3.9.7"
  }
 },
 "nbformat": 4,
 "nbformat_minor": 5
}
