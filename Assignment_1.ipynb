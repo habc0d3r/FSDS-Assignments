{
 "cells": [
  {
   "cell_type": "markdown",
   "id": "b77b52aa",
   "metadata": {},
   "source": [
    "#### Submitted by Hengul Akash"
   ]
  },
  {
   "cell_type": "markdown",
   "id": "eafdea28",
   "metadata": {},
   "source": [
    "#### 1. In the below elements which of them are values or an expression? eg:- values can be integer or string and expressions will be mathematical operators.\n",
    "\n",
    "        * \n",
    "        'hello'\n",
    "        -87.8\n",
    "        - \n",
    "        / \n",
    "        + \n",
    "        6"
   ]
  },
  {
   "cell_type": "markdown",
   "id": "8fc94ccf",
   "metadata": {},
   "source": [
    "#### Ans:\n",
    "    Values: 'hello',-87.8, 6\n",
    "\n",
    "    Expressions: *, -, /, +  "
   ]
  },
  {
   "cell_type": "markdown",
   "id": "8125ba5a",
   "metadata": {},
   "source": [
    "#### 2. What is the difference between string and variable?"
   ]
  },
  {
   "cell_type": "markdown",
   "id": "97287d9e",
   "metadata": {},
   "source": [
    "#### Ans: \n",
    "    String is set of characters which can be consists of numbers, letters and symbols.\n",
    "    Variable is a name given to memory location where we can store any data or information such as string, \n",
    "    list, dictionary etc. "
   ]
  },
  {
   "cell_type": "markdown",
   "id": "9dd74f84",
   "metadata": {},
   "source": [
    "#### 3. Describe three different data types."
   ]
  },
  {
   "cell_type": "markdown",
   "id": "bbf78d0b",
   "metadata": {},
   "source": [
    "#### Ans:\n",
    "\n",
    "    Integer: This are the whole numbers ranging from negative to positive value.\n",
    "        eg.: -2, -57, 0, 3, 543 ...\n",
    "    Float: This are the decimal valued numbers which are excluded from whole numbers.\n",
    "        eg.: 3.3, -45.3, -5 ...\n",
    "    Bool: This is the data type consists of two values, True and False.\n",
    "        eg.: True, False."
   ]
  },
  {
   "cell_type": "markdown",
   "id": "1dfc68ac",
   "metadata": {},
   "source": [
    "#### 4. What is an expression made up of? What do all expressions do?"
   ]
  },
  {
   "cell_type": "markdown",
   "id": "a2af6c4d",
   "metadata": {},
   "source": [
    "#### Ans:\n",
    "    \n",
    "    An expression is made up of numbers, operators and variables.\n",
    "    All expressions represents some kind of values.\n",
    "   "
   ]
  },
  {
   "cell_type": "markdown",
   "id": "1d6d8065",
   "metadata": {},
   "source": [
    "#### 5. This assignment statements, like spam = 10. What is the difference between an expression and a statement?"
   ]
  },
  {
   "cell_type": "markdown",
   "id": "09025ca6",
   "metadata": {},
   "source": [
    "#### Ans:\n",
    "    \n",
    "    In above assignment statement 'spam = 10', the statement is saying that the value 10 is being assigned to\n",
    "    the variable spam.\n",
    "    As an expression it is representing that the value of spam is 10."
   ]
  },
  {
   "cell_type": "markdown",
   "id": "bb572177",
   "metadata": {},
   "source": [
    "#### 6. After running the following code, what does the variable bacon contain?\n",
    "    bacon = 22\n",
    "    bacon + 1"
   ]
  },
  {
   "cell_type": "markdown",
   "id": "fbd8b7e6",
   "metadata": {},
   "source": [
    "#### Ans:\n",
    "    \n",
    "    After running the code, variable bacon still contains the value 22, because we are not reassigning the\n",
    "    variable with bacon + 1."
   ]
  },
  {
   "cell_type": "markdown",
   "id": "692d72f3",
   "metadata": {},
   "source": [
    "#### 7. What should the values of the following two terms be?\n",
    "    'spam' + 'spamspam'\n",
    "    'spam' * 3"
   ]
  },
  {
   "cell_type": "markdown",
   "id": "d4198d11",
   "metadata": {},
   "source": [
    "#### Ans:\n",
    "   \n",
    "    The values of the above two terms should be same which is 'spamspamspam'.\n",
    "    "
   ]
  },
  {
   "cell_type": "markdown",
   "id": "e035cab5",
   "metadata": {},
   "source": [
    "#### 8. Why is eggs a valid variable name while 100 is invalid?"
   ]
  },
  {
   "cell_type": "markdown",
   "id": "dc82b6b7",
   "metadata": {},
   "source": [
    "#### Ans:\n",
    "    \n",
    "    eggs is valid variable name but 100 is not, because variable names can't be started with numerical \n",
    "    characters but with alphabets."
   ]
  },
  {
   "cell_type": "raw",
   "id": "3094178e",
   "metadata": {},
   "source": [
    "#### 9. What three functions can be used to get the integer, floating-point number, or string version of a value?"
   ]
  },
  {
   "cell_type": "markdown",
   "id": "65b6e124",
   "metadata": {},
   "source": [
    "#### Ans:\n",
    "    \n",
    "    int(), float() and str()."
   ]
  },
  {
   "cell_type": "raw",
   "id": "ce352729",
   "metadata": {},
   "source": [
    "10. Why does this expression cause an error? How can you fix it?\n",
    "'I have eaten ' + 99 + ' burritos.'"
   ]
  },
  {
   "cell_type": "markdown",
   "id": "63603932",
   "metadata": {},
   "source": [
    "#### Ans:\n",
    "\n",
    "    Error is occuring because different data types (int and str) are being concatenated. \n",
    "    We can fix it by doing the following changes:\n",
    "    \n",
    "    By enclosing the integer 99 in pair of inverted comma to make it a string:\n",
    "        'I have eaten ' + '99' + ' burritos.'\n",
    "                    or\n",
    "    By typecasting int 99:\n",
    "        'I have eaten ' + str(99) + ' burritos.'\n",
    "        "
   ]
  }
 ],
 "metadata": {
  "kernelspec": {
   "display_name": "Python 3 (ipykernel)",
   "language": "python",
   "name": "python3"
  },
  "language_info": {
   "codemirror_mode": {
    "name": "ipython",
    "version": 3
   },
   "file_extension": ".py",
   "mimetype": "text/x-python",
   "name": "python",
   "nbconvert_exporter": "python",
   "pygments_lexer": "ipython3",
   "version": "3.9.7"
  }
 },
 "nbformat": 4,
 "nbformat_minor": 5
}
