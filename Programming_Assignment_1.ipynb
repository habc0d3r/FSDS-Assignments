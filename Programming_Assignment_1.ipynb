{
 "cells": [
  {
   "cell_type": "markdown",
   "id": "1533ccf8",
   "metadata": {},
   "source": [
    "#### Submitted by Hengul Akash"
   ]
  },
  {
   "cell_type": "markdown",
   "id": "b7f604c0",
   "metadata": {},
   "source": [
    "#### 1. Write a Python program to print \"Hello Python\"?"
   ]
  },
  {
   "cell_type": "code",
   "execution_count": 1,
   "id": "447ba8e7",
   "metadata": {},
   "outputs": [
    {
     "name": "stdout",
     "output_type": "stream",
     "text": [
      "Hello Python\n"
     ]
    }
   ],
   "source": [
    "print(\"Hello Python\")"
   ]
  },
  {
   "cell_type": "markdown",
   "id": "1758c111",
   "metadata": {},
   "source": [
    "#### 2. Write a Python program to do arithmetical operations addition and division."
   ]
  },
  {
   "cell_type": "code",
   "execution_count": 2,
   "id": "2d080d43",
   "metadata": {},
   "outputs": [],
   "source": [
    "num_1 = 10\n",
    "num_2 = 5"
   ]
  },
  {
   "cell_type": "code",
   "execution_count": 3,
   "id": "6d0b2487",
   "metadata": {},
   "outputs": [
    {
     "name": "stdout",
     "output_type": "stream",
     "text": [
      "15\n"
     ]
    }
   ],
   "source": [
    "# Addition\n",
    "result_1 = num_1 + num_2\n",
    "print(result_1)"
   ]
  },
  {
   "cell_type": "code",
   "execution_count": 4,
   "id": "72990787",
   "metadata": {},
   "outputs": [
    {
     "name": "stdout",
     "output_type": "stream",
     "text": [
      "2.0\n"
     ]
    }
   ],
   "source": [
    "# Division\n",
    "result_2 = num_1/num_2\n",
    "print(result_2)"
   ]
  },
  {
   "cell_type": "markdown",
   "id": "7f220ea0",
   "metadata": {},
   "source": [
    "#### 3. Write a Python program to find the area of a triangle?"
   ]
  },
  {
   "cell_type": "code",
   "execution_count": 5,
   "id": "e5283a4d",
   "metadata": {},
   "outputs": [
    {
     "name": "stdout",
     "output_type": "stream",
     "text": [
      "Base: 10\n",
      "Height: 9\n",
      "45.0\n"
     ]
    }
   ],
   "source": [
    "# Area of a triangle: area = 1/2 * base * height\n",
    "\n",
    "b = int(input(\"Base: \"))\n",
    "h = int(input(\"Height: \"))\n",
    "\n",
    "area = b*h/2\n",
    "print(area)"
   ]
  },
  {
   "cell_type": "markdown",
   "id": "03ad6a38",
   "metadata": {},
   "source": [
    "#### 4. Write a Python program to swap two variables?"
   ]
  },
  {
   "cell_type": "code",
   "execution_count": 8,
   "id": "f560c348",
   "metadata": {},
   "outputs": [
    {
     "name": "stdout",
     "output_type": "stream",
     "text": [
      "a: 21\n",
      "b: 3\n",
      "Values after swapping: 3, 21\n"
     ]
    }
   ],
   "source": [
    "# assigning two variables with two different value\n",
    "a = int(input(\"a: \"))\n",
    "b = int(input(\"b: \"))\n",
    "\n",
    "# creating a temporary variable to store the value of b \n",
    "c = b\n",
    "\n",
    "# swapping the values\n",
    "b = a\n",
    "a = c\n",
    "\n",
    "print(f\"Values after swapping: {a}, {b}\")"
   ]
  },
  {
   "cell_type": "markdown",
   "id": "7ee79d22",
   "metadata": {},
   "source": [
    "#### 5. Write a Python program to generate a random number?"
   ]
  },
  {
   "cell_type": "code",
   "execution_count": 7,
   "id": "c8b3c258",
   "metadata": {},
   "outputs": [
    {
     "name": "stdout",
     "output_type": "stream",
     "text": [
      "53\n"
     ]
    }
   ],
   "source": [
    "import random\n",
    "\n",
    "random_num = random.randint(0, 100)\n",
    "\n",
    "print(random_num)"
   ]
  }
 ],
 "metadata": {
  "kernelspec": {
   "display_name": "Python 3 (ipykernel)",
   "language": "python",
   "name": "python3"
  },
  "language_info": {
   "codemirror_mode": {
    "name": "ipython",
    "version": 3
   },
   "file_extension": ".py",
   "mimetype": "text/x-python",
   "name": "python",
   "nbconvert_exporter": "python",
   "pygments_lexer": "ipython3",
   "version": "3.9.7"
  }
 },
 "nbformat": 4,
 "nbformat_minor": 5
}
