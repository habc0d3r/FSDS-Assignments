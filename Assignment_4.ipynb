{
 "cells": [
  {
   "cell_type": "markdown",
   "id": "17ca3d93",
   "metadata": {},
   "source": [
    "#### Submitted by Hengul Akash"
   ]
  },
  {
   "cell_type": "markdown",
   "id": "48cc3fc1",
   "metadata": {},
   "source": [
    "#### 1. What exactly is []?\n",
    "#### Ans:\n",
    "    A pair of square brackets denotes an empty list."
   ]
  },
  {
   "cell_type": "markdown",
   "id": "d96dae5f",
   "metadata": {},
   "source": [
    "#### 2. In a list of values stored in a variable called spam, how would you assign the value 'hello' as the third value? (Assume [2, 4, 6, 8, 10] are in spam.)\n",
    "#### Ans:"
   ]
  },
  {
   "cell_type": "code",
   "execution_count": 1,
   "id": "31c9c8a5",
   "metadata": {},
   "outputs": [
    {
     "data": {
      "text/plain": [
       "[2, 4, 'hello', 8, 10]"
      ]
     },
     "execution_count": 1,
     "metadata": {},
     "output_type": "execute_result"
    }
   ],
   "source": [
    "spam = [2,4,6,8,10]\n",
    "spam[2] = 'hello'\n",
    "spam"
   ]
  },
  {
   "cell_type": "markdown",
   "id": "e0a0835c",
   "metadata": {},
   "source": [
    "#### Let's pretend the spam includes the list ['a', 'b', 'c', 'd'] for the next three queries."
   ]
  },
  {
   "cell_type": "code",
   "execution_count": 2,
   "id": "937378db",
   "metadata": {},
   "outputs": [],
   "source": [
    "spam = ['a', 'b', 'c', 'd']"
   ]
  },
  {
   "cell_type": "markdown",
   "id": "6126f3c0",
   "metadata": {},
   "source": [
    "#### 3. What is the value of spam[int(int('3' * 2) / 11)]?\n",
    "#### Ans:\n",
    "    spam[int(int('3' * 2) / 11)]\n",
    "    = spam[int(33/11)]\n",
    "    = spam[3]\n",
    "    = 'd'"
   ]
  },
  {
   "cell_type": "code",
   "execution_count": 3,
   "id": "9e7fe767",
   "metadata": {},
   "outputs": [
    {
     "data": {
      "text/plain": [
       "'d'"
      ]
     },
     "execution_count": 3,
     "metadata": {},
     "output_type": "execute_result"
    }
   ],
   "source": [
    "spam[int(int('3' * 2) / 11)]"
   ]
  },
  {
   "cell_type": "markdown",
   "id": "4f7aefb8",
   "metadata": {},
   "source": [
    "#### 4. What is the value of spam[-1]?\n",
    "#### Ans:"
   ]
  },
  {
   "cell_type": "code",
   "execution_count": 4,
   "id": "ed693a5c",
   "metadata": {},
   "outputs": [
    {
     "data": {
      "text/plain": [
       "'d'"
      ]
     },
     "execution_count": 4,
     "metadata": {},
     "output_type": "execute_result"
    }
   ],
   "source": [
    "spam[-1]"
   ]
  },
  {
   "cell_type": "markdown",
   "id": "898361e2",
   "metadata": {},
   "source": [
    "#### 5. What is the value of spam[:2]?\n",
    "#### Ans:"
   ]
  },
  {
   "cell_type": "code",
   "execution_count": 5,
   "id": "2679c643",
   "metadata": {},
   "outputs": [
    {
     "data": {
      "text/plain": [
       "['a', 'b']"
      ]
     },
     "execution_count": 5,
     "metadata": {},
     "output_type": "execute_result"
    }
   ],
   "source": [
    "spam[:2]"
   ]
  },
  {
   "cell_type": "markdown",
   "id": "f42d7035",
   "metadata": {},
   "source": [
    "#### Let's pretend bacon has the list [3.14, 'cat,' 11, 'cat,' True] for the next three questions."
   ]
  },
  {
   "cell_type": "code",
   "execution_count": 6,
   "id": "94f02361",
   "metadata": {},
   "outputs": [],
   "source": [
    "bacon = [3.14, 'cat', 11, 'cat', True]"
   ]
  },
  {
   "cell_type": "markdown",
   "id": "fdf0525a",
   "metadata": {},
   "source": [
    "#### 6. What is the value of bacon.index('cat')?\n",
    "#### Ans:"
   ]
  },
  {
   "cell_type": "code",
   "execution_count": 7,
   "id": "00bdc5f9",
   "metadata": {},
   "outputs": [
    {
     "data": {
      "text/plain": [
       "1"
      ]
     },
     "execution_count": 7,
     "metadata": {},
     "output_type": "execute_result"
    }
   ],
   "source": [
    "bacon.index('cat')"
   ]
  },
  {
   "cell_type": "markdown",
   "id": "e2471cba",
   "metadata": {},
   "source": [
    "#### 7. How does bacon.append(99) change the look of the list value in bacon?\n",
    "#### Ans:"
   ]
  },
  {
   "cell_type": "code",
   "execution_count": 8,
   "id": "dc61a38d",
   "metadata": {},
   "outputs": [
    {
     "data": {
      "text/plain": [
       "[3.14, 'cat', 11, 'cat', True, 99]"
      ]
     },
     "execution_count": 8,
     "metadata": {},
     "output_type": "execute_result"
    }
   ],
   "source": [
    "bacon.append(99)\n",
    "bacon"
   ]
  },
  {
   "cell_type": "markdown",
   "id": "2ad63885",
   "metadata": {},
   "source": [
    "#### 8. How does bacon.remove('cat') change the look of the list in bacon?\n",
    "#### Ans:"
   ]
  },
  {
   "cell_type": "code",
   "execution_count": 9,
   "id": "5e5049ae",
   "metadata": {},
   "outputs": [
    {
     "data": {
      "text/plain": [
       "[3.14, 11, 'cat', True, 99]"
      ]
     },
     "execution_count": 9,
     "metadata": {},
     "output_type": "execute_result"
    }
   ],
   "source": [
    "bacon.remove('cat')\n",
    "bacon"
   ]
  },
  {
   "cell_type": "markdown",
   "id": "6ddb2c9e",
   "metadata": {},
   "source": [
    "#### 9. What are the list concatenation and list replication operators?"
   ]
  },
  {
   "cell_type": "markdown",
   "id": "78c3d4a0",
   "metadata": {},
   "source": [
    "#### Ans:\n",
    "    List concatenation operator is '+' and list replication operator is '*'."
   ]
  },
  {
   "cell_type": "markdown",
   "id": "f3460656",
   "metadata": {},
   "source": [
    "#### 10. What is difference between the list methods append() and insert()?"
   ]
  },
  {
   "cell_type": "markdown",
   "id": "83d2b4e7",
   "metadata": {},
   "source": [
    "#### Ans:\n",
    "    With append() method we can add an element/item at the end of a list only, whereas using insert() method\n",
    "    we can add element/item at a specified index."
   ]
  },
  {
   "cell_type": "markdown",
   "id": "98d0b0e1",
   "metadata": {},
   "source": [
    "#### 11. What are the two methods for removing items from a list?"
   ]
  },
  {
   "cell_type": "markdown",
   "id": "16e493b1",
   "metadata": {},
   "source": [
    "#### Ans:\n",
    "    The two methods for removing items from a list are pop() and remove(). Pop() removes an item from a list\n",
    "    at a specified index and remove() removes a specific item/value from a list."
   ]
  },
  {
   "cell_type": "markdown",
   "id": "70de9414",
   "metadata": {},
   "source": [
    "#### 12. Describe how list values and string values are identical.\n",
    "#### Ans:\n",
    "    Both list and string have indexes and slices. Both can be used in for loops i.e. they are iterable.\n",
    "    List and string can be concatenated or replicated."
   ]
  },
  {
   "cell_type": "markdown",
   "id": "1235b110",
   "metadata": {},
   "source": [
    "#### 13. What's the difference between tuples and lists?"
   ]
  },
  {
   "cell_type": "markdown",
   "id": "42f8bdb5",
   "metadata": {},
   "source": [
    "#### Ans:\n",
    "    Tuples are immutable whereas lists are mutable."
   ]
  },
  {
   "cell_type": "markdown",
   "id": "28cb9ee3",
   "metadata": {},
   "source": [
    "#### 14. How do you type a tuple value that only contains the integer 42?\n",
    "#### Ans:"
   ]
  },
  {
   "cell_type": "code",
   "execution_count": 10,
   "id": "4f75c8ab",
   "metadata": {},
   "outputs": [
    {
     "data": {
      "text/plain": [
       "42"
      ]
     },
     "execution_count": 10,
     "metadata": {},
     "output_type": "execute_result"
    }
   ],
   "source": [
    "tu = (42)\n",
    "tu"
   ]
  },
  {
   "cell_type": "markdown",
   "id": "adb5fc86",
   "metadata": {},
   "source": [
    "#### 15. How do you get a list value's tuple form? How do you get a tuple value's list form?\n",
    "#### Ans:\n",
    "    To get a tuple form of a list:"
   ]
  },
  {
   "cell_type": "code",
   "execution_count": 11,
   "id": "0118060e",
   "metadata": {},
   "outputs": [
    {
     "data": {
      "text/plain": [
       "(1, 2, 3, 5, 6, 'bharat')"
      ]
     },
     "execution_count": 11,
     "metadata": {},
     "output_type": "execute_result"
    }
   ],
   "source": [
    "li = [1,2,3,5,6, 'bharat']\n",
    "tuple(li)"
   ]
  },
  {
   "cell_type": "markdown",
   "id": "47eb96de",
   "metadata": {},
   "source": [
    "    To get a list form of a tuple:"
   ]
  },
  {
   "cell_type": "code",
   "execution_count": 12,
   "id": "138f47d3",
   "metadata": {},
   "outputs": [
    {
     "data": {
      "text/plain": [
       "[1, 3, 5, 3, 'india']"
      ]
     },
     "execution_count": 12,
     "metadata": {},
     "output_type": "execute_result"
    }
   ],
   "source": [
    "tu = (1, 3, 5, 3, 'india')\n",
    "list(tu)"
   ]
  },
  {
   "cell_type": "markdown",
   "id": "c57c07f9",
   "metadata": {},
   "source": [
    "#### 16. Variables that \"contain\" list values are not necessarily lists themselves. Instead, what do they contain?\n",
    "#### Ans:\n",
    "    Variables will contain references to list values instead of list values themselves."
   ]
  },
  {
   "cell_type": "markdown",
   "id": "3ab06ab2",
   "metadata": {},
   "source": [
    "#### 17. How do you distinguish between copy.copy() and copy.deepcopy()?\n",
    "#### Ans:\n",
    "    copy.copy() is shallow copy. This method creates a new object that stores the reference of the original\n",
    "    elements.\n",
    "    copy.deepcopy() creates a new object and inserts the copies of nested objects present in the\n",
    "    original elements. "
   ]
  }
 ],
 "metadata": {
  "kernelspec": {
   "display_name": "Python 3 (ipykernel)",
   "language": "python",
   "name": "python3"
  },
  "language_info": {
   "codemirror_mode": {
    "name": "ipython",
    "version": 3
   },
   "file_extension": ".py",
   "mimetype": "text/x-python",
   "name": "python",
   "nbconvert_exporter": "python",
   "pygments_lexer": "ipython3",
   "version": "3.9.7"
  }
 },
 "nbformat": 4,
 "nbformat_minor": 5
}
