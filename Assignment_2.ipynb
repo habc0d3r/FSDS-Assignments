{
 "cells": [
  {
   "cell_type": "raw",
   "id": "0a95091e",
   "metadata": {},
   "source": [
    "1.What are the two values of the Boolean data type? How do you write them?"
   ]
  },
  {
   "cell_type": "markdown",
   "id": "0dc30cab",
   "metadata": {},
   "source": [
    "#### Ans: \n",
    "    The two values of the Boolean data type are True and False which denote the value 1 and 0 respectively.\n",
    "    We write them as:\n",
    "    \n",
    "    var_a = True\n",
    "    var_b = False"
   ]
  },
  {
   "cell_type": "raw",
   "id": "40dc068c",
   "metadata": {},
   "source": [
    "2. What are the three different types of Boolean operators?"
   ]
  },
  {
   "cell_type": "markdown",
   "id": "d0b601a8",
   "metadata": {},
   "source": [
    "#### Ans:\n",
    "    Three different types of Boolean operators are AND, OR and NOT."
   ]
  },
  {
   "cell_type": "raw",
   "id": "6c199e6f",
   "metadata": {},
   "source": [
    "3. Make a list of each Boolean operator's truth tables (i.e. every possible combination of Boolean values for the operator and what it evaluate )."
   ]
  },
  {
   "cell_type": "markdown",
   "id": "ef5b0e3d",
   "metadata": {},
   "source": [
    "#### Ans:\n",
    "    (T denotes True and F denotes False)\n",
    "    \n",
    "    Truth table for AND operator:\n",
    "    ----------\n",
    "    T   T | T\n",
    "    T   F | F\n",
    "    F   T | F\n",
    "    F   F | F\n",
    "    ----------\n",
    "    \n",
    "    Truth table for OR operator:\n",
    "    ----------\n",
    "    T   T | T\n",
    "    T   F | T\n",
    "    F   T | T\n",
    "    F   F | F\n",
    "    ----------\n",
    "    \n",
    "    Truth table for NOT operator:\n",
    "    ---------\n",
    "    T  |  F\n",
    "    F  |  T\n",
    "    ---------\n"
   ]
  },
  {
   "cell_type": "raw",
   "id": "20d744ca",
   "metadata": {},
   "source": [
    "4. What are the values of the following expressions?\n",
    "(5 > 4) and (3 == 5)\n",
    "not (5 > 4)\n",
    "(5 > 4) or (3 == 5)\n",
    "not ((5 > 4) or (3 == 5))\n",
    "(True and True) and (True == False)\n",
    "(not False) or (not True)"
   ]
  },
  {
   "cell_type": "markdown",
   "id": "cebb5f7f",
   "metadata": {},
   "source": [
    "#### Ans:\n",
    "                        Expressions     |    Values\n",
    "    ---------------------------------------------------\n",
    "                (5 > 4) and (3 == 5)    |     F\n",
    "                         not (5 > 4)    |     F\n",
    "                 (5 > 4) or (3 == 5)    |     T\n",
    "           not ((5 > 4) or (3 == 5))    |     F\n",
    "    (True and True) and (True == False) |     F\n",
    "           (not False) or (not True)    |     T\n",
    "    "
   ]
  },
  {
   "cell_type": "raw",
   "id": "76579ac6",
   "metadata": {},
   "source": [
    "5. What are the six comparison operators?"
   ]
  },
  {
   "cell_type": "markdown",
   "id": "d20d5269",
   "metadata": {},
   "source": [
    "#### Ans:\n",
    "    Six comparison operators are: >, <, ==, >=, <= and !="
   ]
  },
  {
   "cell_type": "raw",
   "id": "e2db17d4",
   "metadata": {},
   "source": [
    "6. How do you tell the difference between the equal to and assignment operators? Describe a condition and when you would use one."
   ]
  },
  {
   "cell_type": "markdown",
   "id": "8a4412f8",
   "metadata": {},
   "source": [
    "#### Ans:\n",
    "    In python, one equal sign ('=') is used as assignment operator whereas two equal signs ('==') are used as\n",
    "    equal operator. \n",
    "    \n",
    "    When we are assinging value to a variable we use '=' operator:\n",
    "    eg:\n",
    "        var = 101\n",
    "    When we compare two values or variables we us '==' opearotor and in return we get a boolean:\n",
    "    eg:\n",
    "        var1 = 101\n",
    "        var2 = 100\n",
    "        if var1 == var2:\n",
    "           print(\"Equal\")"
   ]
  },
  {
   "cell_type": "raw",
   "id": "b0af6a87",
   "metadata": {},
   "source": [
    "7. Identify the three blocks in this code:\n",
    "spam = 0\n",
    "if spam == 10:\n",
    "    print('eggs')\n",
    "    if spam > 5:\n",
    "        print('bacon')\n",
    "else:\n",
    "    print('ham')\n",
    "    print('spam')\n",
    "    print('spam')"
   ]
  },
  {
   "cell_type": "markdown",
   "id": "c83360e6",
   "metadata": {},
   "source": [
    "#### Ans:\n",
    "        In above code, "
   ]
  },
  {
   "cell_type": "code",
   "execution_count": 1,
   "id": "8fa0fdec",
   "metadata": {},
   "outputs": [
    {
     "name": "stdout",
     "output_type": "stream",
     "text": [
      "ham\n",
      "spam\n",
      "spam\n"
     ]
    }
   ],
   "source": [
    "spam = 0\n",
    "if spam == 10:\n",
    "    print('eggs')\n",
    "    if spam > 5:\n",
    "        print('bacon')\n",
    "else:\n",
    "    print('ham')\n",
    "    print('spam')\n",
    "    print('spam')"
   ]
  },
  {
   "cell_type": "raw",
   "id": "da10b380",
   "metadata": {},
   "source": [
    "8. Write code that prints Hello if 1 is stored in spam, prints Howdy if 2 is stored in spam, and prints Greetings! if anything else is stored in spam."
   ]
  },
  {
   "cell_type": "markdown",
   "id": "8825fc71",
   "metadata": {},
   "source": [
    "#### Ans:"
   ]
  },
  {
   "cell_type": "code",
   "execution_count": 2,
   "id": "a5f9d4e0",
   "metadata": {},
   "outputs": [
    {
     "name": "stdout",
     "output_type": "stream",
     "text": [
      "Hello\n"
     ]
    }
   ],
   "source": [
    "spam = 1\n",
    "if spam == 1:\n",
    "    print(\"Hello\")\n",
    "elif spam == 2:\n",
    "    print(\"Howdy\")\n",
    "else:\n",
    "    print(\"Greetings!\")"
   ]
  },
  {
   "cell_type": "raw",
   "id": "52f55f1e",
   "metadata": {},
   "source": [
    "9. If your program is stuck in an endless loop, what keys you’ll press?"
   ]
  },
  {
   "cell_type": "markdown",
   "id": "97766156",
   "metadata": {},
   "source": [
    "#### Ans:\n",
    "    We'll press ctrl + c which will interrupt the program."
   ]
  },
  {
   "cell_type": "raw",
   "id": "00f35bd2",
   "metadata": {},
   "source": [
    "10. How can you tell the difference between break and continue?"
   ]
  },
  {
   "cell_type": "markdown",
   "id": "e3958f09",
   "metadata": {},
   "source": [
    "#### Ans:\n",
    "    Break keyword terminates the execution and comes out of the loop containing the break statement.\n",
    "    Whereas Continue keyword skips the rest of the code inside the loop for the current iteration and forces to\n",
    "    execute the next iteration of the loop that contains the continue statement."
   ]
  },
  {
   "cell_type": "raw",
   "id": "4bf2399c",
   "metadata": {},
   "source": [
    "11. In a for loop, what is the difference between range(10), range(0, 10), and range(0, 10, 1)?"
   ]
  },
  {
   "cell_type": "markdown",
   "id": "79f58f2a",
   "metadata": {},
   "source": [
    "#### Ans:\n",
    "    In a for loop, when range(10) function is executed, the loop runs for 10 times from value 0 to 9. Here we don't give the starting value but it will be 0 by default and only stopping value is given which is exclusive.\n",
    "    Again, when range(0, 10) function is executed, the loop runs for 10 times, 0 and (10-1) as starting and stopping value, resp. This time we are providing the start value as 0.\n",
    "    When range(0, 10, 1) is used, this loop also runs 10 times. But here we are providing another value 1 as 3rd argument which denotes the steps. Depending on this 3rd value the start and stop value and differnce between those two may vary."
   ]
  },
  {
   "cell_type": "raw",
   "id": "a785c2bb",
   "metadata": {},
   "source": [
    "12. Write a short program that prints the numbers 1 to 10 using a for loop. Then write an equivalent program that prints the numbers 1 to 10 using a while loop."
   ]
  },
  {
   "cell_type": "markdown",
   "id": "2d81a2f5",
   "metadata": {},
   "source": [
    "#### Ans:"
   ]
  },
  {
   "cell_type": "code",
   "execution_count": 3,
   "id": "31e57b2e",
   "metadata": {},
   "outputs": [
    {
     "name": "stdout",
     "output_type": "stream",
     "text": [
      "0\n",
      "1\n",
      "2\n",
      "3\n",
      "4\n",
      "5\n",
      "6\n",
      "7\n",
      "8\n",
      "9\n",
      "10\n"
     ]
    }
   ],
   "source": [
    "# for loop\n",
    "for i in range(0, 11):\n",
    "    print(i)"
   ]
  },
  {
   "cell_type": "code",
   "execution_count": 4,
   "id": "d69b29c6",
   "metadata": {},
   "outputs": [
    {
     "name": "stdout",
     "output_type": "stream",
     "text": [
      "1\n",
      "2\n",
      "3\n",
      "4\n",
      "5\n",
      "6\n",
      "7\n",
      "8\n",
      "9\n",
      "10\n"
     ]
    }
   ],
   "source": [
    "# while loop\n",
    "n = 1\n",
    "while n <= 10:\n",
    "    print(n)\n",
    "    n += 1"
   ]
  },
  {
   "cell_type": "raw",
   "id": "90d2b642",
   "metadata": {},
   "source": [
    "13. If you had a function named bacon() inside a module named spam, how would you call it after importing spam?"
   ]
  },
  {
   "cell_type": "markdown",
   "id": "deafd8fa",
   "metadata": {},
   "source": [
    "#### Ans:"
   ]
  },
  {
   "cell_type": "markdown",
   "id": "03764117",
   "metadata": {},
   "source": [
    "After importing spam module, we can call the function using dot notation or dot operator in following way:\n",
    "\n",
    "spam.bacon()"
   ]
  }
 ],
 "metadata": {
  "kernelspec": {
   "display_name": "Python 3 (ipykernel)",
   "language": "python",
   "name": "python3"
  },
  "language_info": {
   "codemirror_mode": {
    "name": "ipython",
    "version": 3
   },
   "file_extension": ".py",
   "mimetype": "text/x-python",
   "name": "python",
   "nbconvert_exporter": "python",
   "pygments_lexer": "ipython3",
   "version": "3.9.7"
  }
 },
 "nbformat": 4,
 "nbformat_minor": 5
}
