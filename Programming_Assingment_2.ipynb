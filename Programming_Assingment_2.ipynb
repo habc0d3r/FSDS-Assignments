{
 "cells": [
  {
   "cell_type": "markdown",
   "id": "dbee26e0",
   "metadata": {},
   "source": [
    "#### Submitted by Hengul Akash"
   ]
  },
  {
   "cell_type": "markdown",
   "id": "db6bebad",
   "metadata": {},
   "source": [
    "#### 1. Write a Python program to convert kilometers to miles?"
   ]
  },
  {
   "cell_type": "code",
   "execution_count": 12,
   "id": "4d85802f",
   "metadata": {},
   "outputs": [
    {
     "data": {
      "text/plain": [
       "3.11"
      ]
     },
     "execution_count": 12,
     "metadata": {},
     "output_type": "execute_result"
    }
   ],
   "source": [
    "def km_to_mile(km):\n",
    "    # 1 KM = 0.6213711922 miles\n",
    "    mile = 0.6213711922\n",
    "    return round(km*mile, 2)\n",
    "\n",
    "km_to_mile(5)"
   ]
  },
  {
   "cell_type": "markdown",
   "id": "99dae87f",
   "metadata": {},
   "source": [
    "#### 2. Write a Python program to convert Celsius to Fahrenheit?"
   ]
  },
  {
   "cell_type": "code",
   "execution_count": 2,
   "id": "961c0ed3",
   "metadata": {},
   "outputs": [
    {
     "data": {
      "text/plain": [
       "122.0"
      ]
     },
     "execution_count": 2,
     "metadata": {},
     "output_type": "execute_result"
    }
   ],
   "source": [
    "def cel_to_fah(c):\n",
    "    f = (9*c)/5 + 32\n",
    "    return f\n",
    "\n",
    "cel_to_fah(50)"
   ]
  },
  {
   "cell_type": "markdown",
   "id": "15328c5a",
   "metadata": {},
   "source": [
    "#### 3. Write a Python program to display calendar?"
   ]
  },
  {
   "cell_type": "code",
   "execution_count": 29,
   "id": "55df3b9c",
   "metadata": {},
   "outputs": [
    {
     "name": "stdout",
     "output_type": "stream",
     "text": [
      "Enter year: 1999\n",
      "Enter month: 11\n",
      "   November 1999\n",
      "Mo Tu We Th Fr Sa Su\n",
      " 1  2  3  4  5  6  7\n",
      " 8  9 10 11 12 13 14\n",
      "15 16 17 18 19 20 21\n",
      "22 23 24 25 26 27 28\n",
      "29 30\n",
      "\n"
     ]
    }
   ],
   "source": [
    "import calendar\n",
    "\n",
    "year = int(input(\"Enter year: \"))\n",
    "month = int(input(\"Enter month: \"))\n",
    "print(calendar.month(year, month))"
   ]
  },
  {
   "cell_type": "markdown",
   "id": "fcdc634a",
   "metadata": {},
   "source": [
    "#### 4. Write a Python program to solve quadratic equation?"
   ]
  },
  {
   "cell_type": "code",
   "execution_count": 14,
   "id": "6283861e",
   "metadata": {},
   "outputs": [
    {
     "name": "stdout",
     "output_type": "stream",
     "text": [
      "The general form of a quadratic equation is ax2 + bx + c = 0\n",
      "Enter a: 6\n",
      "Enter b: -5\n",
      "Enter c: -4\n",
      "x:  [1.3, -0.5]\n"
     ]
    }
   ],
   "source": [
    "print(\"The general form of a quadratic equation is ax2 + bx + c = 0\")\n",
    "a = float(input(\"Enter a: \"))\n",
    "b = float(input(\"Enter b: \"))\n",
    "c = float(input(\"Enter c: \"))\n",
    "D = (b**2) - (4*a*c)\n",
    "answer = []\n",
    "numerator = [-b + D**0.5, -b - D**0.5]\n",
    "\n",
    "denominator= 2 * a\n",
    "\n",
    "for i in range(2):\n",
    "    ans = numerator[i] / denominator\n",
    "    answer.append(round(ans, 1))\n",
    "print(\"x: \", answer)"
   ]
  },
  {
   "cell_type": "markdown",
   "id": "140b23e0",
   "metadata": {},
   "source": [
    "#### 5. Write a Python program to swap two variables without temp variable?"
   ]
  },
  {
   "cell_type": "code",
   "execution_count": 32,
   "id": "1476ef33",
   "metadata": {},
   "outputs": [
    {
     "name": "stdout",
     "output_type": "stream",
     "text": [
      "1st num: 10\n",
      "2nd num: 5\n",
      "Value Before swapping a & b:  10 5\n",
      "Value after swapping a & b:  5 10\n"
     ]
    }
   ],
   "source": [
    "a = int(input(\"1st num: \"))\n",
    "b = int(input(\"2nd num: \"))\n",
    "\n",
    "print(\"Value Before swapping a & b: \", a, b)\n",
    "a = a + b\n",
    "b = a - b\n",
    "a = a - b\n",
    "\n",
    "print(\"Value after swapping a & b: \", a, b)"
   ]
  }
 ],
 "metadata": {
  "kernelspec": {
   "display_name": "Python 3 (ipykernel)",
   "language": "python",
   "name": "python3"
  },
  "language_info": {
   "codemirror_mode": {
    "name": "ipython",
    "version": 3
   },
   "file_extension": ".py",
   "mimetype": "text/x-python",
   "name": "python",
   "nbconvert_exporter": "python",
   "pygments_lexer": "ipython3",
   "version": "3.9.7"
  }
 },
 "nbformat": 4,
 "nbformat_minor": 5
}
