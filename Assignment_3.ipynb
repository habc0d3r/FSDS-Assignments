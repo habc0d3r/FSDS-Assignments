{
 "cells": [
  {
   "cell_type": "markdown",
   "id": "fd26f44c",
   "metadata": {},
   "source": [
    "##### Submitted by Hengul Akash"
   ]
  },
  {
   "cell_type": "markdown",
   "id": "993b769f",
   "metadata": {},
   "source": [
    "#### 1. Why are functions advantageous to have in your programs?"
   ]
  },
  {
   "cell_type": "markdown",
   "id": "4ff72c0d",
   "metadata": {},
   "source": [
    "#### Ans: \n",
    "        \n",
    "    Functions are piece of code that can be used anywhere in the program after defining. It helps in\n",
    "    reusability of code without writing them again and again."
   ]
  },
  {
   "cell_type": "markdown",
   "id": "9d8cc377",
   "metadata": {},
   "source": [
    "#### 2. When does the code in a function run: when it's specified or when it's called?"
   ]
  },
  {
   "cell_type": "markdown",
   "id": "41d1b62e",
   "metadata": {},
   "source": [
    "#### Ans:\n",
    "    The code in a function runs when the function is called."
   ]
  },
  {
   "cell_type": "markdown",
   "id": "0426c877",
   "metadata": {},
   "source": [
    "#### 3. What statement creates a function?"
   ]
  },
  {
   "cell_type": "markdown",
   "id": "1d5ca303",
   "metadata": {},
   "source": [
    "#### Ans:\n",
    "    In python, 'def' keyword defines a function.\n",
    "    \n",
    "    def function_name():\n",
    "        code\n",
    "        \n",
    "    For example:"
   ]
  },
  {
   "cell_type": "code",
   "execution_count": 3,
   "id": "9c1b0a9f",
   "metadata": {},
   "outputs": [],
   "source": [
    "\n",
    "def sum(a, b):\n",
    "    s = a + b\n",
    "    return s"
   ]
  },
  {
   "cell_type": "markdown",
   "id": "c546cd41",
   "metadata": {},
   "source": [
    "#### 4. What is the difference between a function and a function call?"
   ]
  },
  {
   "cell_type": "markdown",
   "id": "d02e33dc",
   "metadata": {},
   "source": [
    "#### Ans:\n",
    "\n",
    "    A function is a piece of code that is defined for doing certain operations.\n",
    "\n",
    "    A function call is when a function is executed to perform a predermined operation."
   ]
  },
  {
   "cell_type": "markdown",
   "id": "b3722391",
   "metadata": {},
   "source": [
    "#### 5. How many global scopes are there in a Python program? How many local scopes?"
   ]
  },
  {
   "cell_type": "markdown",
   "id": "cd681c0c",
   "metadata": {},
   "source": [
    "#### Ans:\n",
    "    There can be only one global scope in a Python program. But there can be any number of local scopes."
   ]
  },
  {
   "cell_type": "markdown",
   "id": "ee2011b8",
   "metadata": {},
   "source": [
    "#### 6. What happens to variables in a local scope when the function call returns?"
   ]
  },
  {
   "cell_type": "markdown",
   "id": "ce481b0d",
   "metadata": {},
   "source": [
    "#### Ans:\n",
    "    Variables in a local scope disapper when the function call returns."
   ]
  },
  {
   "cell_type": "markdown",
   "id": "15665fa5",
   "metadata": {},
   "source": [
    "#### 7. What is the concept of a return value? Is it possible to have a return value in an expression?"
   ]
  },
  {
   "cell_type": "markdown",
   "id": "c712572a",
   "metadata": {},
   "source": [
    "#### Ans:\n",
    "    The return statement ends the execution of a function call and returns the result.\n",
    "    The value that a function returns as a result to the caller is generally known as the function's return\n",
    "    value.\n",
    "    Yes, it is possible to have a return value in an expression."
   ]
  },
  {
   "cell_type": "markdown",
   "id": "26e642bb",
   "metadata": {},
   "source": [
    "#### 8. If a function does not have a return statement, what is the return value of a call to that function?"
   ]
  },
  {
   "cell_type": "markdown",
   "id": "39b11f5b",
   "metadata": {},
   "source": [
    "#### Ans:\n",
    "    None is the return value of a call to a function having no return statement. This is the default value implicitly returned by Python when we don't explicitly use a return value in a return statement or don't use return statement."
   ]
  },
  {
   "cell_type": "markdown",
   "id": "d5006134",
   "metadata": {},
   "source": [
    "#### 9. How do you make a function variable refer to the global variable?"
   ]
  },
  {
   "cell_type": "markdown",
   "id": "148acb46",
   "metadata": {},
   "source": [
    "#### Ans:\n",
    "    We can use 'global' keyword to make a function variable refer to the global variable."
   ]
  },
  {
   "cell_type": "markdown",
   "id": "9d515aa3",
   "metadata": {},
   "source": [
    "#### 10. What is the data type of None?"
   ]
  },
  {
   "cell_type": "markdown",
   "id": "a60abcd3",
   "metadata": {},
   "source": [
    "#### Ans:\n",
    "    Data type of None is NoneType."
   ]
  },
  {
   "cell_type": "markdown",
   "id": "101c97ca",
   "metadata": {},
   "source": [
    "#### 11. What does the sentence import areallyourpetsnamederic do?"
   ]
  },
  {
   "cell_type": "markdown",
   "id": "84b6e966",
   "metadata": {},
   "source": [
    "#### Ans:\n",
    "    The sentence 'import areallyourpetsnamederic' will import a module named areallyourpetsnamederic if the module exists, otherwise show an error message."
   ]
  },
  {
   "cell_type": "markdown",
   "id": "80bb00b2",
   "metadata": {},
   "source": [
    "#### 12. If you had a bacon() feature in a spam module, what would you call it after importing spam?"
   ]
  },
  {
   "cell_type": "markdown",
   "id": "a02ac00b",
   "metadata": {},
   "source": [
    "#### Ans:\n",
    "    Ater importing the module we will write spam.bacon() to call the feature.\n",
    "    \n",
    "    If we don't want to import whole module and only want to use bacon() feature specifically, we can even\n",
    "    import it this way:\n",
    "    from spam import bacon\n",
    "    \n",
    "    Then we can call it this way:\n",
    "    bacon()\n",
    "    "
   ]
  },
  {
   "cell_type": "markdown",
   "id": "33b73536",
   "metadata": {},
   "source": [
    "#### 13. What can you do to save a programme from crashing if it encounters an error?"
   ]
  },
  {
   "cell_type": "markdown",
   "id": "60bb0c8a",
   "metadata": {},
   "source": [
    "#### Ans:\n",
    "    We can use exception handing to save a programme from crashing if it encounters an error."
   ]
  },
  {
   "cell_type": "markdown",
   "id": "5cd59b5e",
   "metadata": {},
   "source": [
    "#### 14. What is the purpose of the try clause? What is the purpose of the except clause?"
   ]
  },
  {
   "cell_type": "markdown",
   "id": "f9d440b1",
   "metadata": {},
   "source": [
    "#### Ans:\n",
    "    Try clause is used to run all the codes until an exception occurs. Then Except clause is used to handle the exception that occured in the try clause."
   ]
  }
 ],
 "metadata": {
  "kernelspec": {
   "display_name": "Python 3 (ipykernel)",
   "language": "python",
   "name": "python3"
  },
  "language_info": {
   "codemirror_mode": {
    "name": "ipython",
    "version": 3
   },
   "file_extension": ".py",
   "mimetype": "text/x-python",
   "name": "python",
   "nbconvert_exporter": "python",
   "pygments_lexer": "ipython3",
   "version": "3.9.7"
  }
 },
 "nbformat": 4,
 "nbformat_minor": 5
}
