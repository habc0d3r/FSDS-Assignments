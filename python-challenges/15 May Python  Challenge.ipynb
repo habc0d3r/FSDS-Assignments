{
 "cells": [
  {
   "cell_type": "markdown",
   "id": "6eca4c40",
   "metadata": {},
   "source": [
    "#### Submitted by Hengul Akash"
   ]
  },
  {
   "cell_type": "code",
   "execution_count": 24,
   "id": "e62b1226",
   "metadata": {},
   "outputs": [],
   "source": [
    "s = \"this is My First Python programming class and I am learning python string and its function\""
   ]
  },
  {
   "cell_type": "markdown",
   "id": "1ecc1da5",
   "metadata": {},
   "source": [
    "### 1. Try to extract data from index one to index 300 with a jump of 3"
   ]
  },
  {
   "cell_type": "code",
   "execution_count": 25,
   "id": "2ba3b92d",
   "metadata": {},
   "outputs": [
    {
     "data": {
      "text/plain": [
       "'h   r tnrrmglsnImengyosi dtfco'"
      ]
     },
     "execution_count": 25,
     "metadata": {},
     "output_type": "execute_result"
    }
   ],
   "source": [
    "s[1:300:3]"
   ]
  },
  {
   "cell_type": "markdown",
   "id": "b70f7017",
   "metadata": {},
   "source": [
    "### 2. Try to reverse a string without using reverse function"
   ]
  },
  {
   "cell_type": "code",
   "execution_count": 26,
   "id": "3e4173d0",
   "metadata": {},
   "outputs": [
    {
     "data": {
      "text/plain": [
       "'noitcnuf sti dna gnirts nohtyp gninrael ma I dna ssalc gnimmargorp nohtyP tsriF yM si siht'"
      ]
     },
     "execution_count": 26,
     "metadata": {},
     "output_type": "execute_result"
    }
   ],
   "source": [
    "s[::-1]"
   ]
  },
  {
   "cell_type": "markdown",
   "id": "5e85d92f",
   "metadata": {},
   "source": [
    "### 3. Try to split a string after conversion of entire string in uppercase"
   ]
  },
  {
   "cell_type": "code",
   "execution_count": 27,
   "id": "ff5fb569",
   "metadata": {},
   "outputs": [
    {
     "data": {
      "text/plain": [
       "['THIS',\n",
       " 'IS',\n",
       " 'MY',\n",
       " 'FIRST',\n",
       " 'PYTHON',\n",
       " 'PROGRAMMING',\n",
       " 'CLASS',\n",
       " 'AND',\n",
       " 'I',\n",
       " 'AM',\n",
       " 'LEARNING',\n",
       " 'PYTHON',\n",
       " 'STRING',\n",
       " 'AND',\n",
       " 'ITS',\n",
       " 'FUNCTION']"
      ]
     },
     "execution_count": 27,
     "metadata": {},
     "output_type": "execute_result"
    }
   ],
   "source": [
    "# to uppercase\n",
    "s_new = s.upper()\n",
    "\n",
    "# split\n",
    "s_new.split(\" \")"
   ]
  },
  {
   "cell_type": "markdown",
   "id": "8d85b1bb",
   "metadata": {},
   "source": [
    "### 4. Try to convert the whole string into lower case "
   ]
  },
  {
   "cell_type": "code",
   "execution_count": 28,
   "id": "bc6d54e0",
   "metadata": {},
   "outputs": [
    {
     "data": {
      "text/plain": [
       "'this is my first python programming class and i am learning python string and its function'"
      ]
     },
     "execution_count": 28,
     "metadata": {},
     "output_type": "execute_result"
    }
   ],
   "source": [
    "s.lower()"
   ]
  },
  {
   "cell_type": "markdown",
   "id": "88e2119f",
   "metadata": {},
   "source": [
    "### 5. Try to capitalize the whole string"
   ]
  },
  {
   "cell_type": "code",
   "execution_count": 29,
   "id": "31a0b12c",
   "metadata": {},
   "outputs": [
    {
     "data": {
      "text/plain": [
       "'This Is My First Python Programming Class And I Am Learning Python String And Its Function'"
      ]
     },
     "execution_count": 29,
     "metadata": {},
     "output_type": "execute_result"
    }
   ],
   "source": [
    "s.title()"
   ]
  },
  {
   "cell_type": "markdown",
   "id": "99cb042b",
   "metadata": {},
   "source": [
    "### 6. Write a diference between isalnum() and isalpha()"
   ]
  },
  {
   "cell_type": "markdown",
   "id": "e3dfd219",
   "metadata": {},
   "source": [
    "Ans:\n",
    "\n",
    "isalnum() : It returns True if a given string consist of either Alphabet or Number and returns False if not consists of either one of both.\n",
    "\n",
    "isalpha() : It checks whether a given string consists of alphabets or not and returns a boolean value accordingly."
   ]
  },
  {
   "cell_type": "markdown",
   "id": "d842c472",
   "metadata": {},
   "source": [
    "### 7. Try to give an example of expand tab"
   ]
  },
  {
   "cell_type": "code",
   "execution_count": 30,
   "id": "bb70ad0a",
   "metadata": {},
   "outputs": [
    {
     "data": {
      "text/plain": [
       "'Hengul  Akash   Boruah'"
      ]
     },
     "execution_count": 30,
     "metadata": {},
     "output_type": "execute_result"
    }
   ],
   "source": [
    "name = \"Hengul\\tAkash\\tBoruah\"\n",
    "name.expandtabs()"
   ]
  },
  {
   "cell_type": "markdown",
   "id": "59cc173d",
   "metadata": {},
   "source": [
    "### 8. Give an example of strip , lstrip and rstrip "
   ]
  },
  {
   "cell_type": "code",
   "execution_count": 31,
   "id": "8690a915",
   "metadata": {},
   "outputs": [
    {
     "data": {
      "text/plain": [
       "'SaveSoil'"
      ]
     },
     "execution_count": 31,
     "metadata": {},
     "output_type": "execute_result"
    }
   ],
   "source": [
    "new = \"  SaveSoil  \"\n",
    "# strip\n",
    "new.strip()"
   ]
  },
  {
   "cell_type": "code",
   "execution_count": 32,
   "id": "a6012cca",
   "metadata": {},
   "outputs": [
    {
     "data": {
      "text/plain": [
       "'SaveSoil  '"
      ]
     },
     "execution_count": 32,
     "metadata": {},
     "output_type": "execute_result"
    }
   ],
   "source": [
    "# lstrip\n",
    "new.lstrip()"
   ]
  },
  {
   "cell_type": "code",
   "execution_count": 33,
   "id": "bc2d36d7",
   "metadata": {},
   "outputs": [
    {
     "data": {
      "text/plain": [
       "'  SaveSoil'"
      ]
     },
     "execution_count": 33,
     "metadata": {},
     "output_type": "execute_result"
    }
   ],
   "source": [
    "# rstrip\n",
    "new.rstrip()"
   ]
  },
  {
   "cell_type": "markdown",
   "id": "f67c296f",
   "metadata": {},
   "source": [
    "### 9.  Replace a string character by another charector by taking your own example \"sudhanshu\""
   ]
  },
  {
   "cell_type": "code",
   "execution_count": 34,
   "id": "1ed50acc",
   "metadata": {},
   "outputs": [
    {
     "data": {
      "text/plain": [
       "\"SaveSoil, let's make this happen.\""
      ]
     },
     "execution_count": 34,
     "metadata": {},
     "output_type": "execute_result"
    }
   ],
   "source": [
    "a = \"this is a string\"\n",
    "new = \"SaveSoil, let's make this happen.\"\n",
    "\n",
    "a.replace(a, new)"
   ]
  },
  {
   "cell_type": "markdown",
   "id": "62028987",
   "metadata": {},
   "source": [
    "### 10. Try  to give a defination of string center function with and exmple "
   ]
  },
  {
   "cell_type": "markdown",
   "id": "d0ff3d93",
   "metadata": {},
   "source": [
    "Ans:\n",
    "#### center() function returns a centered string of length of the given width filled with the given character on both of the sides."
   ]
  },
  {
   "cell_type": "markdown",
   "id": "d3eb55e2",
   "metadata": {},
   "source": [
    "### 11. Write your own definition of compiler and interpreter without copy paste form internet in your own language"
   ]
  },
  {
   "cell_type": "markdown",
   "id": "23034f71",
   "metadata": {},
   "source": [
    "Ans: \n",
    "#### Compiler:  A compiler is a computer program that scans & translates a complete source code or program into machine code in a single run and then that get executed by the computer.\n",
    "#### Interpreter:  Interpreter is a computer program that scans & translates a program line by line into byte code and then the byte code get converted inot machine code which is understandable by computers and then that machine code get executed by the computer."
   ]
  },
  {
   "cell_type": "markdown",
   "id": "b7c24c8f",
   "metadata": {},
   "source": [
    "### 12. Python is an interpreted or compiled language give a clear answer with your understanding "
   ]
  },
  {
   "cell_type": "markdown",
   "id": "4665f165",
   "metadata": {},
   "source": [
    "Ans:\n",
    "#### Python is an interpreted language. Because, Python source code first gets translated into an intermediate code which is called byte code. By the Python Virtal Machine (PVM) then that byte code gets converted into machine code which is understandable by computer. Finally the machine code gets executed by the computer. "
   ]
  },
  {
   "cell_type": "markdown",
   "id": "17679fe7",
   "metadata": {},
   "source": [
    "### 13. Try to write a usecase of python with your understanding \t"
   ]
  },
  {
   "cell_type": "markdown",
   "id": "549988f1",
   "metadata": {},
   "source": [
    "Ans:\n",
    "#### Python is a multipurpose programming language, so it has several use cases. One of the top use case of Python is Web Development. Two most popular frameworks available in Python for web devlopment are Django and Flask. Django can be used for large scale web development whereas Flask can be used for small scale development. Django provides security, convenience, and scalability to web applications and it makes Python a popular option for Web Dev."
   ]
  }
 ],
 "metadata": {
  "kernelspec": {
   "display_name": "Python 3 (ipykernel)",
   "language": "python",
   "name": "python3"
  },
  "language_info": {
   "codemirror_mode": {
    "name": "ipython",
    "version": 3
   },
   "file_extension": ".py",
   "mimetype": "text/x-python",
   "name": "python",
   "nbconvert_exporter": "python",
   "pygments_lexer": "ipython3",
   "version": "3.9.7"
  }
 },
 "nbformat": 4,
 "nbformat_minor": 5
}
