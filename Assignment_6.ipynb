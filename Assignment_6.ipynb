{
 "cells": [
  {
   "cell_type": "markdown",
   "id": "3a8a63c4",
   "metadata": {},
   "source": [
    "#### Submitted by Hengul Akash"
   ]
  },
  {
   "cell_type": "markdown",
   "id": "e3db7391",
   "metadata": {},
   "source": [
    "#### 1. What are escape characters, and how do you use them?\n",
    "#### Ans:\n",
    "    Escape characters are special characters that are used to insert some other characters that are impossible\n",
    "    to insert or not accepted generally in a string."
   ]
  },
  {
   "cell_type": "markdown",
   "id": "f2d62677",
   "metadata": {},
   "source": [
    "#### 2. What do the escape characters n and t stand for?\n",
    "#### Ans:\n",
    "    Escape character n stands for New line and t stands for Tab."
   ]
  },
  {
   "cell_type": "markdown",
   "id": "280459a6",
   "metadata": {},
   "source": [
    "#### 3. What is the way to include backslash characters in a string?\n",
    "#### Ans:\n",
    "    The way to include backslash character in a string is to use double backslashes (\\\\). "
   ]
  },
  {
   "cell_type": "markdown",
   "id": "535b6c33",
   "metadata": {},
   "source": [
    "#### 4. The string \"Howl's Moving Castle\" is a correct value. Why isn't the single quote character in the word Howl's not escaped a problem?\n",
    "#### Ans:\n",
    "    Here, single quote in the word Howl's is not a problem because the whole string is wrapped around with\n",
    "    double quotes(\"\")."
   ]
  },
  {
   "cell_type": "markdown",
   "id": "83cc8cfa",
   "metadata": {},
   "source": [
    "#### 5. How do you write a string of newlines if you don't want to use the n character?\n",
    "#### Ans:\n",
    "    We can use multiline strings which start and end with either three single quotes (''') or three double\n",
    "    quotes (\"\"\") that allow us to write newlines without \\n."
   ]
  },
  {
   "cell_type": "markdown",
   "id": "130cd8ec",
   "metadata": {},
   "source": [
    "#### 6. What are the values of the given expressions?\n",
    "    'Hello, world!'[1]\n",
    "    'Hello, world!'[0:5]\n",
    "    'Hello, world!'[:5]\n",
    "    'Hello, world!'[3:]\n",
    "#### Ans:\n",
    "    'e'\n",
    "    'Hello'\n",
    "    'Hello'\n",
    "    'lo, world!'"
   ]
  },
  {
   "cell_type": "markdown",
   "id": "6c9c257e",
   "metadata": {},
   "source": [
    "#### 7. What are the values of the following expressions?\n",
    "    'Hello'.upper()\n",
    "    'Hello'.upper().isupper()\n",
    "    'Hello'.upper().lower()\n",
    "#### Ans:\n",
    "    'HELLO'\n",
    "     True\n",
    "    'hello'"
   ]
  },
  {
   "cell_type": "markdown",
   "id": "c954143e",
   "metadata": {},
   "source": [
    "#### 8. What are the values of the following expressions?\n",
    "    'Remember, remember, the fifth of July.'.split()\n",
    "    '-'.join('There can only one.'.split())\n",
    "#### Ans:\n",
    "    ['Remember,', 'remember,', 'the', 'fifth', 'of', 'July.']\n",
    "    'There-can-only-one.'"
   ]
  },
  {
   "cell_type": "markdown",
   "id": "259e7244",
   "metadata": {},
   "source": [
    "#### 9. What are the methods for right-justifying, left-justifying, and centering a string?\n",
    "#### Ans:\n",
    "    Method for right-justifying: rjust()\n",
    "    Method for left-justifying: ljust()\n",
    "    Method for centering: center()"
   ]
  },
  {
   "cell_type": "markdown",
   "id": "23cd4ba9",
   "metadata": {},
   "source": [
    "#### 10. What is the best way to remove whitespace characters from the start or end?\n",
    "#### Ans:\n",
    "    To remove whitespace from the start or end we use strip() method. But to remove whitespace from the start\n",
    "    we use lstrip() and to remove from the end we use rstrip() method."
   ]
  }
 ],
 "metadata": {
  "kernelspec": {
   "display_name": "Python 3 (ipykernel)",
   "language": "python",
   "name": "python3"
  },
  "language_info": {
   "codemirror_mode": {
    "name": "ipython",
    "version": 3
   },
   "file_extension": ".py",
   "mimetype": "text/x-python",
   "name": "python",
   "nbconvert_exporter": "python",
   "pygments_lexer": "ipython3",
   "version": "3.9.7"
  }
 },
 "nbformat": 4,
 "nbformat_minor": 5
}
